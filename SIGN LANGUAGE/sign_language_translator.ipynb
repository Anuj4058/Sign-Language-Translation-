{
 "cells": [
  {
   "cell_type": "code",
   "execution_count": 3,
   "id": "0186cef5-155a-459d-8929-b3d9ee5e6d9d",
   "metadata": {
    "scrolled": true
   },
   "outputs": [
    {
     "name": "stdout",
     "output_type": "stream",
     "text": [
      "Collecting tensorflow\n",
      "  Downloading tensorflow-2.19.0-cp312-cp312-win_amd64.whl.metadata (4.1 kB)\n",
      "Collecting absl-py>=1.0.0 (from tensorflow)\n",
      "  Downloading absl_py-2.2.2-py3-none-any.whl.metadata (2.6 kB)\n",
      "Collecting astunparse>=1.6.0 (from tensorflow)\n",
      "  Downloading astunparse-1.6.3-py2.py3-none-any.whl.metadata (4.4 kB)\n",
      "Collecting flatbuffers>=24.3.25 (from tensorflow)\n",
      "  Downloading flatbuffers-25.2.10-py2.py3-none-any.whl.metadata (875 bytes)\n",
      "Collecting gast!=0.5.0,!=0.5.1,!=0.5.2,>=0.2.1 (from tensorflow)\n",
      "  Downloading gast-0.6.0-py3-none-any.whl.metadata (1.3 kB)\n",
      "Collecting google-pasta>=0.1.1 (from tensorflow)\n",
      "  Downloading google_pasta-0.2.0-py3-none-any.whl.metadata (814 bytes)\n",
      "Collecting libclang>=13.0.0 (from tensorflow)\n",
      "  Downloading libclang-18.1.1-py2.py3-none-win_amd64.whl.metadata (5.3 kB)\n",
      "Collecting opt-einsum>=2.3.2 (from tensorflow)\n",
      "  Downloading opt_einsum-3.4.0-py3-none-any.whl.metadata (6.3 kB)\n",
      "Requirement already satisfied: packaging in c:\\users\\anujk\\anaconda3\\lib\\site-packages (from tensorflow) (24.1)\n",
      "Requirement already satisfied: protobuf!=4.21.0,!=4.21.1,!=4.21.2,!=4.21.3,!=4.21.4,!=4.21.5,<6.0.0dev,>=3.20.3 in c:\\users\\anujk\\anaconda3\\lib\\site-packages (from tensorflow) (4.25.3)\n",
      "Requirement already satisfied: requests<3,>=2.21.0 in c:\\users\\anujk\\anaconda3\\lib\\site-packages (from tensorflow) (2.32.3)\n",
      "Requirement already satisfied: setuptools in c:\\users\\anujk\\anaconda3\\lib\\site-packages (from tensorflow) (75.1.0)\n",
      "Requirement already satisfied: six>=1.12.0 in c:\\users\\anujk\\anaconda3\\lib\\site-packages (from tensorflow) (1.16.0)\n",
      "Collecting termcolor>=1.1.0 (from tensorflow)\n",
      "  Downloading termcolor-3.1.0-py3-none-any.whl.metadata (6.4 kB)\n",
      "Requirement already satisfied: typing-extensions>=3.6.6 in c:\\users\\anujk\\anaconda3\\lib\\site-packages (from tensorflow) (4.11.0)\n",
      "Requirement already satisfied: wrapt>=1.11.0 in c:\\users\\anujk\\anaconda3\\lib\\site-packages (from tensorflow) (1.14.1)\n",
      "Collecting grpcio<2.0,>=1.24.3 (from tensorflow)\n",
      "  Downloading grpcio-1.71.0-cp312-cp312-win_amd64.whl.metadata (4.0 kB)\n",
      "Collecting tensorboard~=2.19.0 (from tensorflow)\n",
      "  Downloading tensorboard-2.19.0-py3-none-any.whl.metadata (1.8 kB)\n",
      "Collecting keras>=3.5.0 (from tensorflow)\n",
      "  Downloading keras-3.9.2-py3-none-any.whl.metadata (6.1 kB)\n",
      "Requirement already satisfied: numpy<2.2.0,>=1.26.0 in c:\\users\\anujk\\anaconda3\\lib\\site-packages (from tensorflow) (1.26.4)\n",
      "Requirement already satisfied: h5py>=3.11.0 in c:\\users\\anujk\\anaconda3\\lib\\site-packages (from tensorflow) (3.11.0)\n",
      "Collecting ml-dtypes<1.0.0,>=0.5.1 (from tensorflow)\n",
      "  Downloading ml_dtypes-0.5.1-cp312-cp312-win_amd64.whl.metadata (22 kB)\n",
      "Requirement already satisfied: wheel<1.0,>=0.23.0 in c:\\users\\anujk\\anaconda3\\lib\\site-packages (from astunparse>=1.6.0->tensorflow) (0.44.0)\n",
      "Requirement already satisfied: rich in c:\\users\\anujk\\anaconda3\\lib\\site-packages (from keras>=3.5.0->tensorflow) (13.7.1)\n",
      "Collecting namex (from keras>=3.5.0->tensorflow)\n",
      "  Downloading namex-0.0.9-py3-none-any.whl.metadata (322 bytes)\n",
      "Collecting optree (from keras>=3.5.0->tensorflow)\n",
      "  Downloading optree-0.15.0-cp312-cp312-win_amd64.whl.metadata (49 kB)\n",
      "Requirement already satisfied: charset-normalizer<4,>=2 in c:\\users\\anujk\\anaconda3\\lib\\site-packages (from requests<3,>=2.21.0->tensorflow) (3.3.2)\n",
      "Requirement already satisfied: idna<4,>=2.5 in c:\\users\\anujk\\anaconda3\\lib\\site-packages (from requests<3,>=2.21.0->tensorflow) (3.7)\n",
      "Requirement already satisfied: urllib3<3,>=1.21.1 in c:\\users\\anujk\\anaconda3\\lib\\site-packages (from requests<3,>=2.21.0->tensorflow) (2.2.3)\n",
      "Requirement already satisfied: certifi>=2017.4.17 in c:\\users\\anujk\\anaconda3\\lib\\site-packages (from requests<3,>=2.21.0->tensorflow) (2024.12.14)\n",
      "Requirement already satisfied: markdown>=2.6.8 in c:\\users\\anujk\\anaconda3\\lib\\site-packages (from tensorboard~=2.19.0->tensorflow) (3.4.1)\n",
      "Collecting tensorboard-data-server<0.8.0,>=0.7.0 (from tensorboard~=2.19.0->tensorflow)\n",
      "  Downloading tensorboard_data_server-0.7.2-py3-none-any.whl.metadata (1.1 kB)\n",
      "Requirement already satisfied: werkzeug>=1.0.1 in c:\\users\\anujk\\anaconda3\\lib\\site-packages (from tensorboard~=2.19.0->tensorflow) (3.0.3)\n",
      "Requirement already satisfied: MarkupSafe>=2.1.1 in c:\\users\\anujk\\anaconda3\\lib\\site-packages (from werkzeug>=1.0.1->tensorboard~=2.19.0->tensorflow) (2.1.3)\n",
      "Requirement already satisfied: markdown-it-py>=2.2.0 in c:\\users\\anujk\\anaconda3\\lib\\site-packages (from rich->keras>=3.5.0->tensorflow) (2.2.0)\n",
      "Requirement already satisfied: pygments<3.0.0,>=2.13.0 in c:\\users\\anujk\\anaconda3\\lib\\site-packages (from rich->keras>=3.5.0->tensorflow) (2.15.1)\n",
      "Requirement already satisfied: mdurl~=0.1 in c:\\users\\anujk\\anaconda3\\lib\\site-packages (from markdown-it-py>=2.2.0->rich->keras>=3.5.0->tensorflow) (0.1.0)\n",
      "Downloading tensorflow-2.19.0-cp312-cp312-win_amd64.whl (376.0 MB)\n",
      "   ---------------------------------------- 0.0/376.0 MB ? eta -:--:--\n",
      "   ---------------------------------------- 2.1/376.0 MB 11.8 MB/s eta 0:00:32\n",
      "   ---------------------------------------- 4.2/376.0 MB 11.4 MB/s eta 0:00:33\n",
      "    --------------------------------------- 5.2/376.0 MB 9.7 MB/s eta 0:00:39\n",
      "    --------------------------------------- 6.3/376.0 MB 7.9 MB/s eta 0:00:47\n",
      "    --------------------------------------- 8.1/376.0 MB 7.9 MB/s eta 0:00:47\n",
      "   - -------------------------------------- 10.0/376.0 MB 8.0 MB/s eta 0:00:46\n",
      "   - -------------------------------------- 12.1/376.0 MB 8.4 MB/s eta 0:00:44\n",
      "   - -------------------------------------- 13.9/376.0 MB 8.4 MB/s eta 0:00:44\n",
      "   - -------------------------------------- 15.7/376.0 MB 8.5 MB/s eta 0:00:43\n",
      "   - -------------------------------------- 17.6/376.0 MB 8.5 MB/s eta 0:00:43\n",
      "   -- ------------------------------------- 19.4/376.0 MB 8.6 MB/s eta 0:00:42\n",
      "   -- ------------------------------------- 21.2/376.0 MB 8.6 MB/s eta 0:00:42\n",
      "   -- ------------------------------------- 23.1/376.0 MB 8.7 MB/s eta 0:00:41\n",
      "   -- ------------------------------------- 25.4/376.0 MB 8.8 MB/s eta 0:00:40\n",
      "   -- ------------------------------------- 27.3/376.0 MB 8.8 MB/s eta 0:00:40\n",
      "   --- ------------------------------------ 29.1/376.0 MB 8.8 MB/s eta 0:00:40\n",
      "   --- ------------------------------------ 30.9/376.0 MB 8.8 MB/s eta 0:00:40\n",
      "   --- ------------------------------------ 33.0/376.0 MB 8.9 MB/s eta 0:00:39\n",
      "   --- ------------------------------------ 34.6/376.0 MB 8.8 MB/s eta 0:00:39\n",
      "   --- ------------------------------------ 36.4/376.0 MB 8.9 MB/s eta 0:00:39\n",
      "   ---- ----------------------------------- 38.5/376.0 MB 8.9 MB/s eta 0:00:38\n",
      "   ---- ----------------------------------- 40.6/376.0 MB 9.0 MB/s eta 0:00:38\n",
      "   ---- ----------------------------------- 42.2/376.0 MB 8.9 MB/s eta 0:00:38\n",
      "   ---- ----------------------------------- 44.0/376.0 MB 8.9 MB/s eta 0:00:38\n",
      "   ---- ----------------------------------- 46.1/376.0 MB 8.9 MB/s eta 0:00:38\n",
      "   ----- ---------------------------------- 48.0/376.0 MB 8.9 MB/s eta 0:00:37\n",
      "   ----- ---------------------------------- 49.8/376.0 MB 8.9 MB/s eta 0:00:37\n",
      "   ----- ---------------------------------- 51.6/376.0 MB 8.9 MB/s eta 0:00:37\n",
      "   ----- ---------------------------------- 53.7/376.0 MB 9.0 MB/s eta 0:00:36\n",
      "   ----- ---------------------------------- 55.6/376.0 MB 8.9 MB/s eta 0:00:36\n",
      "   ------ --------------------------------- 57.7/376.0 MB 9.0 MB/s eta 0:00:36\n",
      "   ------ --------------------------------- 59.5/376.0 MB 9.0 MB/s eta 0:00:36\n",
      "   ------ --------------------------------- 60.8/376.0 MB 8.9 MB/s eta 0:00:36\n",
      "   ------ --------------------------------- 61.6/376.0 MB 8.8 MB/s eta 0:00:36\n",
      "   ------ --------------------------------- 62.9/376.0 MB 8.7 MB/s eta 0:00:36\n",
      "   ------ --------------------------------- 64.5/376.0 MB 8.7 MB/s eta 0:00:36\n",
      "   ------ --------------------------------- 65.5/376.0 MB 8.6 MB/s eta 0:00:37\n",
      "   ------- -------------------------------- 67.1/376.0 MB 8.5 MB/s eta 0:00:37\n",
      "   ------- -------------------------------- 68.7/376.0 MB 8.5 MB/s eta 0:00:37\n",
      "   ------- -------------------------------- 70.0/376.0 MB 8.5 MB/s eta 0:00:36\n",
      "   ------- -------------------------------- 71.6/376.0 MB 8.4 MB/s eta 0:00:37\n",
      "   ------- -------------------------------- 72.6/376.0 MB 8.4 MB/s eta 0:00:37\n",
      "   ------- -------------------------------- 73.1/376.0 MB 8.3 MB/s eta 0:00:37\n",
      "   ------- -------------------------------- 74.7/376.0 MB 8.2 MB/s eta 0:00:37\n",
      "   -------- ------------------------------- 76.0/376.0 MB 8.1 MB/s eta 0:00:37\n",
      "   -------- ------------------------------- 77.1/376.0 MB 8.1 MB/s eta 0:00:37\n",
      "   -------- ------------------------------- 78.6/376.0 MB 8.1 MB/s eta 0:00:37\n",
      "   -------- ------------------------------- 80.2/376.0 MB 8.1 MB/s eta 0:00:37\n",
      "   -------- ------------------------------- 81.8/376.0 MB 8.1 MB/s eta 0:00:37\n",
      "   -------- ------------------------------- 83.4/376.0 MB 8.0 MB/s eta 0:00:37\n",
      "   -------- ------------------------------- 84.4/376.0 MB 8.0 MB/s eta 0:00:37\n",
      "   --------- ------------------------------ 85.7/376.0 MB 7.9 MB/s eta 0:00:37\n",
      "   --------- ------------------------------ 87.0/376.0 MB 7.9 MB/s eta 0:00:37\n",
      "   --------- ------------------------------ 88.3/376.0 MB 7.9 MB/s eta 0:00:37\n",
      "   --------- ------------------------------ 89.7/376.0 MB 7.9 MB/s eta 0:00:37\n",
      "   --------- ------------------------------ 90.4/376.0 MB 7.8 MB/s eta 0:00:37\n",
      "   --------- ------------------------------ 92.0/376.0 MB 7.8 MB/s eta 0:00:37\n",
      "   --------- ------------------------------ 93.3/376.0 MB 7.8 MB/s eta 0:00:37\n",
      "   ---------- ----------------------------- 95.4/376.0 MB 7.8 MB/s eta 0:00:36\n",
      "   ---------- ----------------------------- 97.3/376.0 MB 7.8 MB/s eta 0:00:36\n",
      "   ---------- ----------------------------- 99.4/376.0 MB 7.9 MB/s eta 0:00:36\n",
      "   ---------- ----------------------------- 101.4/376.0 MB 7.9 MB/s eta 0:00:35\n",
      "   ----------- ---------------------------- 103.5/376.0 MB 7.9 MB/s eta 0:00:35\n",
      "   ----------- ---------------------------- 105.6/376.0 MB 8.0 MB/s eta 0:00:34\n",
      "   ----------- ---------------------------- 107.2/376.0 MB 8.0 MB/s eta 0:00:34\n",
      "   ----------- ---------------------------- 109.3/376.0 MB 8.0 MB/s eta 0:00:34\n",
      "   ----------- ---------------------------- 111.1/376.0 MB 8.0 MB/s eta 0:00:34\n",
      "   ------------ --------------------------- 113.2/376.0 MB 8.0 MB/s eta 0:00:33\n",
      "   ------------ --------------------------- 115.1/376.0 MB 8.0 MB/s eta 0:00:33\n",
      "   ------------ --------------------------- 117.2/376.0 MB 8.1 MB/s eta 0:00:33\n",
      "   ------------ --------------------------- 119.3/376.0 MB 8.1 MB/s eta 0:00:32\n",
      "   ------------ --------------------------- 121.4/376.0 MB 8.1 MB/s eta 0:00:32\n",
      "   ------------- -------------------------- 123.2/376.0 MB 8.2 MB/s eta 0:00:31\n",
      "   ------------- -------------------------- 125.0/376.0 MB 8.2 MB/s eta 0:00:31\n",
      "   ------------- -------------------------- 127.1/376.0 MB 8.2 MB/s eta 0:00:31\n",
      "   ------------- -------------------------- 129.0/376.0 MB 8.2 MB/s eta 0:00:31\n",
      "   ------------- -------------------------- 131.1/376.0 MB 8.2 MB/s eta 0:00:30\n",
      "   -------------- ------------------------- 132.9/376.0 MB 8.2 MB/s eta 0:00:30\n",
      "   -------------- ------------------------- 134.7/376.0 MB 8.2 MB/s eta 0:00:30\n",
      "   -------------- ------------------------- 135.8/376.0 MB 8.2 MB/s eta 0:00:30\n",
      "   -------------- ------------------------- 137.1/376.0 MB 8.2 MB/s eta 0:00:30\n",
      "   -------------- ------------------------- 138.9/376.0 MB 8.2 MB/s eta 0:00:29\n",
      "   --------------- ------------------------ 141.0/376.0 MB 8.2 MB/s eta 0:00:29\n",
      "   --------------- ------------------------ 143.1/376.0 MB 8.2 MB/s eta 0:00:29\n",
      "   --------------- ------------------------ 145.0/376.0 MB 8.2 MB/s eta 0:00:29\n",
      "   --------------- ------------------------ 146.5/376.0 MB 8.2 MB/s eta 0:00:28\n",
      "   --------------- ------------------------ 148.6/376.0 MB 8.2 MB/s eta 0:00:28\n",
      "   ---------------- ----------------------- 150.7/376.0 MB 8.3 MB/s eta 0:00:28\n",
      "   ---------------- ----------------------- 152.6/376.0 MB 8.3 MB/s eta 0:00:28\n",
      "   ---------------- ----------------------- 154.7/376.0 MB 8.3 MB/s eta 0:00:27\n",
      "   ---------------- ----------------------- 156.8/376.0 MB 8.3 MB/s eta 0:00:27\n",
      "   ---------------- ----------------------- 158.9/376.0 MB 8.3 MB/s eta 0:00:27\n",
      "   ----------------- ---------------------- 161.0/376.0 MB 8.3 MB/s eta 0:00:26\n",
      "   ----------------- ---------------------- 163.1/376.0 MB 8.4 MB/s eta 0:00:26\n",
      "   ----------------- ---------------------- 164.6/376.0 MB 8.3 MB/s eta 0:00:26\n",
      "   ----------------- ---------------------- 165.9/376.0 MB 8.3 MB/s eta 0:00:26\n",
      "   ----------------- ---------------------- 167.8/376.0 MB 8.3 MB/s eta 0:00:25\n",
      "   ------------------ --------------------- 170.1/376.0 MB 8.4 MB/s eta 0:00:25\n",
      "   ------------------ --------------------- 172.2/376.0 MB 8.4 MB/s eta 0:00:25\n",
      "   ------------------ --------------------- 174.1/376.0 MB 8.4 MB/s eta 0:00:25\n",
      "   ------------------ --------------------- 176.2/376.0 MB 8.4 MB/s eta 0:00:24\n",
      "   ------------------ --------------------- 178.3/376.0 MB 8.4 MB/s eta 0:00:24\n",
      "   ------------------- -------------------- 180.4/376.0 MB 8.4 MB/s eta 0:00:24\n",
      "   ------------------- -------------------- 182.5/376.0 MB 8.4 MB/s eta 0:00:23\n",
      "   ------------------- -------------------- 184.3/376.0 MB 8.5 MB/s eta 0:00:23\n",
      "   ------------------- -------------------- 186.1/376.0 MB 8.5 MB/s eta 0:00:23\n",
      "   -------------------- ------------------- 188.2/376.0 MB 8.5 MB/s eta 0:00:23\n",
      "   -------------------- ------------------- 190.3/376.0 MB 8.5 MB/s eta 0:00:22\n",
      "   -------------------- ------------------- 192.7/376.0 MB 8.5 MB/s eta 0:00:22\n",
      "   -------------------- ------------------- 194.8/376.0 MB 8.5 MB/s eta 0:00:22\n",
      "   -------------------- ------------------- 196.9/376.0 MB 8.5 MB/s eta 0:00:21\n",
      "   --------------------- ------------------ 199.2/376.0 MB 8.6 MB/s eta 0:00:21\n",
      "   --------------------- ------------------ 201.3/376.0 MB 8.6 MB/s eta 0:00:21\n",
      "   --------------------- ------------------ 202.1/376.0 MB 8.5 MB/s eta 0:00:21\n",
      "   --------------------- ------------------ 203.7/376.0 MB 8.5 MB/s eta 0:00:21\n",
      "   --------------------- ------------------ 206.0/376.0 MB 8.6 MB/s eta 0:00:20\n",
      "   ---------------------- ----------------- 208.7/376.0 MB 8.6 MB/s eta 0:00:20\n",
      "   ---------------------- ----------------- 210.5/376.0 MB 8.6 MB/s eta 0:00:20\n",
      "   ---------------------- ----------------- 212.1/376.0 MB 8.6 MB/s eta 0:00:20\n",
      "   ---------------------- ----------------- 214.2/376.0 MB 8.6 MB/s eta 0:00:19\n",
      "   ----------------------- ---------------- 216.3/376.0 MB 8.6 MB/s eta 0:00:19\n",
      "   ----------------------- ---------------- 218.6/376.0 MB 8.6 MB/s eta 0:00:19\n",
      "   ----------------------- ---------------- 220.7/376.0 MB 8.6 MB/s eta 0:00:18\n",
      "   ----------------------- ---------------- 222.6/376.0 MB 8.6 MB/s eta 0:00:18\n",
      "   ----------------------- ---------------- 224.4/376.0 MB 8.7 MB/s eta 0:00:18\n",
      "   ------------------------ --------------- 226.5/376.0 MB 8.7 MB/s eta 0:00:18\n",
      "   ------------------------ --------------- 228.6/376.0 MB 8.7 MB/s eta 0:00:17\n",
      "   ------------------------ --------------- 229.9/376.0 MB 8.7 MB/s eta 0:00:17\n",
      "   ------------------------ --------------- 230.9/376.0 MB 8.6 MB/s eta 0:00:17\n",
      "   ------------------------ --------------- 232.0/376.0 MB 8.6 MB/s eta 0:00:17\n",
      "   ------------------------ --------------- 233.8/376.0 MB 8.6 MB/s eta 0:00:17\n",
      "   ------------------------- -------------- 235.7/376.0 MB 8.6 MB/s eta 0:00:17\n",
      "   ------------------------- -------------- 237.5/376.0 MB 8.6 MB/s eta 0:00:17\n",
      "   ------------------------- -------------- 239.9/376.0 MB 8.6 MB/s eta 0:00:16\n",
      "   ------------------------- -------------- 241.7/376.0 MB 8.6 MB/s eta 0:00:16\n",
      "   ------------------------- -------------- 243.5/376.0 MB 8.6 MB/s eta 0:00:16\n",
      "   -------------------------- ------------- 245.1/376.0 MB 8.6 MB/s eta 0:00:16\n",
      "   -------------------------- ------------- 247.2/376.0 MB 8.6 MB/s eta 0:00:15\n",
      "   -------------------------- ------------- 249.0/376.0 MB 8.6 MB/s eta 0:00:15\n",
      "   -------------------------- ------------- 251.1/376.0 MB 8.6 MB/s eta 0:00:15\n",
      "   -------------------------- ------------- 253.0/376.0 MB 8.6 MB/s eta 0:00:15\n",
      "   --------------------------- ------------ 254.8/376.0 MB 8.6 MB/s eta 0:00:15\n",
      "   --------------------------- ------------ 256.1/376.0 MB 8.6 MB/s eta 0:00:14\n",
      "   --------------------------- ------------ 256.9/376.0 MB 8.6 MB/s eta 0:00:14\n",
      "   --------------------------- ------------ 257.9/376.0 MB 8.6 MB/s eta 0:00:14\n",
      "   --------------------------- ------------ 259.5/376.0 MB 8.5 MB/s eta 0:00:14\n",
      "   --------------------------- ------------ 260.6/376.0 MB 8.5 MB/s eta 0:00:14\n",
      "   --------------------------- ------------ 262.4/376.0 MB 8.5 MB/s eta 0:00:14\n",
      "   ---------------------------- ----------- 264.2/376.0 MB 8.5 MB/s eta 0:00:14\n",
      "   ---------------------------- ----------- 266.1/376.0 MB 8.6 MB/s eta 0:00:13\n",
      "   ---------------------------- ----------- 267.9/376.0 MB 8.5 MB/s eta 0:00:13\n",
      "   ---------------------------- ----------- 270.0/376.0 MB 8.6 MB/s eta 0:00:13\n",
      "   ---------------------------- ----------- 271.8/376.0 MB 8.6 MB/s eta 0:00:13\n",
      "   ----------------------------- ---------- 273.4/376.0 MB 8.5 MB/s eta 0:00:12\n",
      "   ----------------------------- ---------- 275.0/376.0 MB 8.5 MB/s eta 0:00:12\n",
      "   ----------------------------- ---------- 276.8/376.0 MB 8.5 MB/s eta 0:00:12\n",
      "   ----------------------------- ---------- 278.7/376.0 MB 8.5 MB/s eta 0:00:12\n",
      "   ----------------------------- ---------- 280.2/376.0 MB 8.5 MB/s eta 0:00:12\n",
      "   ------------------------------ --------- 282.1/376.0 MB 8.5 MB/s eta 0:00:12\n",
      "   ------------------------------ --------- 283.9/376.0 MB 8.5 MB/s eta 0:00:11\n",
      "   ------------------------------ --------- 285.7/376.0 MB 8.5 MB/s eta 0:00:11\n",
      "   ------------------------------ --------- 287.6/376.0 MB 8.5 MB/s eta 0:00:11\n",
      "   ------------------------------ --------- 289.4/376.0 MB 8.5 MB/s eta 0:00:11\n",
      "   ------------------------------- -------- 291.5/376.0 MB 8.5 MB/s eta 0:00:10\n",
      "   ------------------------------- -------- 293.1/376.0 MB 8.5 MB/s eta 0:00:10\n",
      "   ------------------------------- -------- 295.2/376.0 MB 8.5 MB/s eta 0:00:10\n",
      "   ------------------------------- -------- 297.0/376.0 MB 8.5 MB/s eta 0:00:10\n",
      "   ------------------------------- -------- 298.8/376.0 MB 8.5 MB/s eta 0:00:10\n",
      "   ------------------------------- -------- 300.2/376.0 MB 8.5 MB/s eta 0:00:09\n",
      "   -------------------------------- ------- 301.2/376.0 MB 8.5 MB/s eta 0:00:09\n",
      "   -------------------------------- ------- 302.3/376.0 MB 8.4 MB/s eta 0:00:09\n",
      "   -------------------------------- ------- 304.1/376.0 MB 8.4 MB/s eta 0:00:09\n",
      "   -------------------------------- ------- 305.9/376.0 MB 8.4 MB/s eta 0:00:09\n",
      "   -------------------------------- ------- 307.8/376.0 MB 8.4 MB/s eta 0:00:09\n",
      "   -------------------------------- ------- 309.9/376.0 MB 8.4 MB/s eta 0:00:08\n",
      "   --------------------------------- ------ 311.7/376.0 MB 8.4 MB/s eta 0:00:08\n",
      "   --------------------------------- ------ 313.3/376.0 MB 8.4 MB/s eta 0:00:08\n",
      "   --------------------------------- ------ 315.4/376.0 MB 8.4 MB/s eta 0:00:08\n",
      "   --------------------------------- ------ 317.2/376.0 MB 8.5 MB/s eta 0:00:07\n",
      "   --------------------------------- ------ 319.0/376.0 MB 8.5 MB/s eta 0:00:07\n",
      "   ---------------------------------- ----- 321.1/376.0 MB 8.5 MB/s eta 0:00:07\n",
      "   ---------------------------------- ----- 323.5/376.0 MB 8.5 MB/s eta 0:00:07\n",
      "   ---------------------------------- ----- 324.8/376.0 MB 8.5 MB/s eta 0:00:06\n",
      "   ---------------------------------- ----- 326.6/376.0 MB 8.6 MB/s eta 0:00:06\n",
      "   ---------------------------------- ----- 328.2/376.0 MB 8.6 MB/s eta 0:00:06\n",
      "   ----------------------------------- ---- 330.0/376.0 MB 8.6 MB/s eta 0:00:06\n",
      "   ----------------------------------- ---- 331.6/376.0 MB 8.6 MB/s eta 0:00:06\n",
      "   ----------------------------------- ---- 333.2/376.0 MB 8.6 MB/s eta 0:00:05\n",
      "   ----------------------------------- ---- 334.8/376.0 MB 8.6 MB/s eta 0:00:05\n",
      "   ----------------------------------- ---- 336.6/376.0 MB 8.6 MB/s eta 0:00:05\n",
      "   ----------------------------------- ---- 338.2/376.0 MB 8.7 MB/s eta 0:00:05\n",
      "   ------------------------------------ --- 339.2/376.0 MB 8.6 MB/s eta 0:00:05\n",
      "   ------------------------------------ --- 340.5/376.0 MB 8.6 MB/s eta 0:00:05\n",
      "   ------------------------------------ --- 342.4/376.0 MB 8.6 MB/s eta 0:00:04\n",
      "   ------------------------------------ --- 343.9/376.0 MB 8.6 MB/s eta 0:00:04\n",
      "   ------------------------------------ --- 345.2/376.0 MB 8.6 MB/s eta 0:00:04\n",
      "   ------------------------------------ --- 347.1/376.0 MB 8.7 MB/s eta 0:00:04\n",
      "   ------------------------------------- -- 348.9/376.0 MB 8.7 MB/s eta 0:00:04\n",
      "   ------------------------------------- -- 350.5/376.0 MB 8.7 MB/s eta 0:00:03\n",
      "   ------------------------------------- -- 352.6/376.0 MB 8.7 MB/s eta 0:00:03\n",
      "   ------------------------------------- -- 354.2/376.0 MB 8.7 MB/s eta 0:00:03\n",
      "   ------------------------------------- -- 355.7/376.0 MB 8.7 MB/s eta 0:00:03\n",
      "   ------------------------------------- -- 357.0/376.0 MB 8.7 MB/s eta 0:00:03\n",
      "   -------------------------------------- - 358.6/376.0 MB 8.7 MB/s eta 0:00:02\n",
      "   -------------------------------------- - 359.9/376.0 MB 8.7 MB/s eta 0:00:02\n",
      "   -------------------------------------- - 361.5/376.0 MB 8.7 MB/s eta 0:00:02\n",
      "   -------------------------------------- - 362.8/376.0 MB 8.6 MB/s eta 0:00:02\n",
      "   -------------------------------------- - 363.3/376.0 MB 8.6 MB/s eta 0:00:02\n",
      "   -------------------------------------- - 363.9/376.0 MB 8.5 MB/s eta 0:00:02\n",
      "   -------------------------------------- - 364.1/376.0 MB 8.5 MB/s eta 0:00:02\n",
      "   -------------------------------------- - 365.2/376.0 MB 8.4 MB/s eta 0:00:02\n",
      "   ---------------------------------------  367.0/376.0 MB 8.4 MB/s eta 0:00:02\n",
      "   ---------------------------------------  368.6/376.0 MB 8.4 MB/s eta 0:00:01\n",
      "   ---------------------------------------  369.9/376.0 MB 8.4 MB/s eta 0:00:01\n",
      "   ---------------------------------------  371.5/376.0 MB 8.4 MB/s eta 0:00:01\n",
      "   ---------------------------------------  373.0/376.0 MB 8.4 MB/s eta 0:00:01\n",
      "   ---------------------------------------  374.3/376.0 MB 8.4 MB/s eta 0:00:01\n",
      "   ---------------------------------------  375.9/376.0 MB 8.3 MB/s eta 0:00:01\n",
      "   ---------------------------------------  375.9/376.0 MB 8.3 MB/s eta 0:00:01\n",
      "   ---------------------------------------  375.9/376.0 MB 8.3 MB/s eta 0:00:01\n",
      "   ---------------------------------------  375.9/376.0 MB 8.3 MB/s eta 0:00:01\n",
      "   ---------------------------------------  375.9/376.0 MB 8.3 MB/s eta 0:00:01\n",
      "   ---------------------------------------- 376.0/376.0 MB 8.1 MB/s eta 0:00:00\n",
      "Downloading absl_py-2.2.2-py3-none-any.whl (135 kB)\n",
      "Downloading astunparse-1.6.3-py2.py3-none-any.whl (12 kB)\n",
      "Downloading flatbuffers-25.2.10-py2.py3-none-any.whl (30 kB)\n",
      "Downloading gast-0.6.0-py3-none-any.whl (21 kB)\n",
      "Downloading google_pasta-0.2.0-py3-none-any.whl (57 kB)\n",
      "Downloading grpcio-1.71.0-cp312-cp312-win_amd64.whl (4.3 MB)\n",
      "   ---------------------------------------- 0.0/4.3 MB ? eta -:--:--\n",
      "   -------------- ------------------------- 1.6/4.3 MB 9.3 MB/s eta 0:00:01\n",
      "   ------------------------ --------------- 2.6/4.3 MB 6.6 MB/s eta 0:00:01\n",
      "   ------------------------------------ --- 3.9/4.3 MB 6.3 MB/s eta 0:00:01\n",
      "   ---------------------------------------- 4.3/4.3 MB 6.1 MB/s eta 0:00:00\n",
      "Downloading keras-3.9.2-py3-none-any.whl (1.3 MB)\n",
      "   ---------------------------------------- 0.0/1.3 MB ? eta -:--:--\n",
      "   ------------------------------- -------- 1.0/1.3 MB 4.6 MB/s eta 0:00:01\n",
      "   ---------------------------------------- 1.3/1.3 MB 4.6 MB/s eta 0:00:00\n",
      "Downloading libclang-18.1.1-py2.py3-none-win_amd64.whl (26.4 MB)\n",
      "   ---------------------------------------- 0.0/26.4 MB ? eta -:--:--\n",
      "   -- ------------------------------------- 1.6/26.4 MB 8.4 MB/s eta 0:00:03\n",
      "   ----- ---------------------------------- 3.4/26.4 MB 8.7 MB/s eta 0:00:03\n",
      "   ------- -------------------------------- 5.2/26.4 MB 8.6 MB/s eta 0:00:03\n",
      "   ----------- ---------------------------- 7.3/26.4 MB 8.9 MB/s eta 0:00:03\n",
      "   -------------- ------------------------- 9.4/26.4 MB 9.0 MB/s eta 0:00:02\n",
      "   ----------------- ---------------------- 11.3/26.4 MB 9.0 MB/s eta 0:00:02\n",
      "   ------------------- -------------------- 12.8/26.4 MB 8.8 MB/s eta 0:00:02\n",
      "   --------------------- ------------------ 13.9/26.4 MB 8.6 MB/s eta 0:00:02\n",
      "   ---------------------- ----------------- 14.7/26.4 MB 8.0 MB/s eta 0:00:02\n",
      "   ----------------------- ---------------- 15.5/26.4 MB 7.5 MB/s eta 0:00:02\n",
      "   ------------------------- -------------- 17.0/26.4 MB 7.6 MB/s eta 0:00:02\n",
      "   ---------------------------- ----------- 18.9/26.4 MB 7.7 MB/s eta 0:00:01\n",
      "   ------------------------------- -------- 20.7/26.4 MB 7.8 MB/s eta 0:00:01\n",
      "   --------------------------------- ------ 22.3/26.4 MB 7.8 MB/s eta 0:00:01\n",
      "   ------------------------------------ --- 23.9/26.4 MB 7.7 MB/s eta 0:00:01\n",
      "   -------------------------------------- - 25.2/26.4 MB 7.6 MB/s eta 0:00:01\n",
      "   ---------------------------------------  26.2/26.4 MB 7.6 MB/s eta 0:00:01\n",
      "   ---------------------------------------- 26.4/26.4 MB 7.4 MB/s eta 0:00:00\n",
      "Downloading ml_dtypes-0.5.1-cp312-cp312-win_amd64.whl (210 kB)\n",
      "Downloading opt_einsum-3.4.0-py3-none-any.whl (71 kB)\n",
      "Downloading tensorboard-2.19.0-py3-none-any.whl (5.5 MB)\n",
      "   ---------------------------------------- 0.0/5.5 MB ? eta -:--:--\n",
      "   --------- ------------------------------ 1.3/5.5 MB 7.4 MB/s eta 0:00:01\n",
      "   ---------------------- ----------------- 3.1/5.5 MB 7.7 MB/s eta 0:00:01\n",
      "   ---------------------------------- ----- 4.7/5.5 MB 7.9 MB/s eta 0:00:01\n",
      "   ---------------------------------------- 5.5/5.5 MB 7.3 MB/s eta 0:00:00\n",
      "Downloading termcolor-3.1.0-py3-none-any.whl (7.7 kB)\n",
      "Downloading tensorboard_data_server-0.7.2-py3-none-any.whl (2.4 kB)\n",
      "Downloading namex-0.0.9-py3-none-any.whl (5.8 kB)\n",
      "Downloading optree-0.15.0-cp312-cp312-win_amd64.whl (307 kB)\n",
      "Installing collected packages: namex, libclang, flatbuffers, termcolor, tensorboard-data-server, optree, opt-einsum, ml-dtypes, grpcio, google-pasta, gast, astunparse, absl-py, tensorboard, keras, tensorflow\n",
      "Successfully installed absl-py-2.2.2 astunparse-1.6.3 flatbuffers-25.2.10 gast-0.6.0 google-pasta-0.2.0 grpcio-1.71.0 keras-3.9.2 libclang-18.1.1 ml-dtypes-0.5.1 namex-0.0.9 opt-einsum-3.4.0 optree-0.15.0 tensorboard-2.19.0 tensorboard-data-server-0.7.2 tensorflow-2.19.0 termcolor-3.1.0\n"
     ]
    }
   ],
   "source": [
    "!pip install tensorflow\n",
    "\n"
   ]
  },
  {
   "cell_type": "code",
   "execution_count": 5,
   "id": "50077487-6e9f-41de-ace4-88ea9a1dd5ea",
   "metadata": {},
   "outputs": [],
   "source": [
    "# 📦 Step 1: Import Libraries\n",
    "import numpy as np\n",
    "import pandas as pd\n",
    "import matplotlib.pyplot as plt\n",
    "import seaborn as sns\n",
    "from sklearn.model_selection import train_test_split\n",
    "from tensorflow.keras.utils import to_categorical\n",
    "from tensorflow.keras.models import Sequential\n",
    "from tensorflow.keras.layers import Conv2D, MaxPooling2D, Flatten, Dense, Dropout\n"
   ]
  },
  {
   "cell_type": "code",
   "execution_count": 7,
   "id": "eeccc534-8d3b-40fd-a7bd-2da3867529bb",
   "metadata": {},
   "outputs": [],
   "source": [
    "# 📥 Step 2: Load Dataset\n",
    "train_df = pd.read_csv(\"sign_mnist_train.csv\")\n",
    "test_df = pd.read_csv(\"sign_mnist_test.csv\")\n"
   ]
  },
  {
   "cell_type": "code",
   "execution_count": 9,
   "id": "94411f9e-b2f1-4b19-9225-180451b211c3",
   "metadata": {},
   "outputs": [
    {
     "name": "stdout",
     "output_type": "stream",
     "text": [
      "(27455, 785)\n",
      "   label  pixel1  pixel2  pixel3  pixel4  pixel5  pixel6  pixel7  pixel8  \\\n",
      "0      3     107     118     127     134     139     143     146     150   \n",
      "1      6     155     157     156     156     156     157     156     158   \n",
      "2      2     187     188     188     187     187     186     187     188   \n",
      "3      2     211     211     212     212     211     210     211     210   \n",
      "4     13     164     167     170     172     176     179     180     184   \n",
      "\n",
      "   pixel9  ...  pixel775  pixel776  pixel777  pixel778  pixel779  pixel780  \\\n",
      "0     153  ...       207       207       207       207       206       206   \n",
      "1     158  ...        69       149       128        87        94       163   \n",
      "2     187  ...       202       201       200       199       198       199   \n",
      "3     210  ...       235       234       233       231       230       226   \n",
      "4     185  ...        92       105       105       108       133       163   \n",
      "\n",
      "   pixel781  pixel782  pixel783  pixel784  \n",
      "0       206       204       203       202  \n",
      "1       175       103       135       149  \n",
      "2       198       195       194       195  \n",
      "3       225       222       229       163  \n",
      "4       157       163       164       179  \n",
      "\n",
      "[5 rows x 785 columns]\n"
     ]
    }
   ],
   "source": [
    "# 🔍 Step 3: Explore the Dataset\n",
    "print(train_df.shape)\n",
    "print(train_df.head())\n"
   ]
  },
  {
   "cell_type": "code",
   "execution_count": 11,
   "id": "ffe7b444-a553-447d-b352-8d9048cf8629",
   "metadata": {},
   "outputs": [],
   "source": [
    "# 🎯 Step 4: Separate Features and Labels\n",
    "X_train = train_df.drop('label', axis=1).values\n",
    "y_train = train_df['label'].values\n",
    "X_test = test_df.drop('label', axis=1).values\n",
    "y_test = test_df['label'].values\n"
   ]
  },
  {
   "cell_type": "code",
   "execution_count": 13,
   "id": "fee7d275-32af-4d04-a38f-351a748b431b",
   "metadata": {},
   "outputs": [],
   "source": [
    "# 🔄 Step 5: Reshape and Normalize\n",
    "X_train = X_train.reshape(-1, 28, 28, 1) / 255.0\n",
    "X_test = X_test.reshape(-1, 28, 28, 1) / 255.0\n"
   ]
  },
  {
   "cell_type": "code",
   "execution_count": 15,
   "id": "cec2a2b2-c0d7-4841-a183-3fa3330377ad",
   "metadata": {},
   "outputs": [],
   "source": [
    "# 🔢 Step 6: One-hot Encode Labels\n",
    "y_train = to_categorical(y_train, num_classes=25)\n",
    "y_test = to_categorical(y_test, num_classes=25)\n"
   ]
  },
  {
   "cell_type": "code",
   "execution_count": 17,
   "id": "70b55213-a3ef-43d4-b2fc-62dea87518fa",
   "metadata": {},
   "outputs": [
    {
     "name": "stderr",
     "output_type": "stream",
     "text": [
      "C:\\Users\\anujk\\anaconda3\\Lib\\site-packages\\keras\\src\\layers\\convolutional\\base_conv.py:107: UserWarning: Do not pass an `input_shape`/`input_dim` argument to a layer. When using Sequential models, prefer using an `Input(shape)` object as the first layer in the model instead.\n",
      "  super().__init__(activity_regularizer=activity_regularizer, **kwargs)\n"
     ]
    }
   ],
   "source": [
    "# 🧠 Step 7: Build the CNN Model\n",
    "model = Sequential([\n",
    "    Conv2D(32, (3,3), activation='relu', input_shape=(28,28,1)),\n",
    "    MaxPooling2D(2,2),\n",
    "    Conv2D(64, (3,3), activation='relu'),\n",
    "    MaxPooling2D(2,2),\n",
    "    Flatten(),\n",
    "    Dense(128, activation='relu'),\n",
    "    Dropout(0.3),\n",
    "    Dense(25, activation='softmax')\n",
    "])\n"
   ]
  },
  {
   "cell_type": "code",
   "execution_count": 19,
   "id": "4f311777-9d83-4e84-a1d8-e25f5e7ea589",
   "metadata": {},
   "outputs": [],
   "source": [
    "# ⚙️ Step 8: Compile the Model\n",
    "model.compile(optimizer='adam', loss='categorical_crossentropy', metrics=['accuracy'])\n"
   ]
  },
  {
   "cell_type": "code",
   "execution_count": 21,
   "id": "82a0f853-e721-49a0-9fc8-1c29d15ab3bf",
   "metadata": {},
   "outputs": [
    {
     "name": "stdout",
     "output_type": "stream",
     "text": [
      "Epoch 1/5\n",
      "\u001b[1m858/858\u001b[0m \u001b[32m━━━━━━━━━━━━━━━━━━━━\u001b[0m\u001b[37m\u001b[0m \u001b[1m8s\u001b[0m 8ms/step - accuracy: 0.3987 - loss: 2.0158 - val_accuracy: 0.8398 - val_loss: 0.4699\n",
      "Epoch 2/5\n",
      "\u001b[1m858/858\u001b[0m \u001b[32m━━━━━━━━━━━━━━━━━━━━\u001b[0m\u001b[37m\u001b[0m \u001b[1m6s\u001b[0m 7ms/step - accuracy: 0.9130 - loss: 0.2755 - val_accuracy: 0.9060 - val_loss: 0.3317\n",
      "Epoch 3/5\n",
      "\u001b[1m858/858\u001b[0m \u001b[32m━━━━━━━━━━━━━━━━━━━━\u001b[0m\u001b[37m\u001b[0m \u001b[1m7s\u001b[0m 8ms/step - accuracy: 0.9648 - loss: 0.1099 - val_accuracy: 0.9144 - val_loss: 0.3062\n",
      "Epoch 4/5\n",
      "\u001b[1m858/858\u001b[0m \u001b[32m━━━━━━━━━━━━━━━━━━━━\u001b[0m\u001b[37m\u001b[0m \u001b[1m7s\u001b[0m 8ms/step - accuracy: 0.9776 - loss: 0.0723 - val_accuracy: 0.9032 - val_loss: 0.3565\n",
      "Epoch 5/5\n",
      "\u001b[1m858/858\u001b[0m \u001b[32m━━━━━━━━━━━━━━━━━━━━\u001b[0m\u001b[37m\u001b[0m \u001b[1m7s\u001b[0m 8ms/step - accuracy: 0.9851 - loss: 0.0449 - val_accuracy: 0.9023 - val_loss: 0.3810\n"
     ]
    },
    {
     "data": {
      "text/plain": [
       "<keras.src.callbacks.history.History at 0x109e9476e70>"
      ]
     },
     "execution_count": 21,
     "metadata": {},
     "output_type": "execute_result"
    }
   ],
   "source": [
    "# 🚀 Step 9: Train the Model\n",
    "model.fit(X_train, y_train, epochs=5, validation_data=(X_test, y_test))\n"
   ]
  },
  {
   "cell_type": "code",
   "execution_count": 23,
   "id": "9689bc01-bb4c-48f1-8e95-8eb02bd5f6c4",
   "metadata": {},
   "outputs": [
    {
     "name": "stdout",
     "output_type": "stream",
     "text": [
      "\u001b[1m225/225\u001b[0m \u001b[32m━━━━━━━━━━━━━━━━━━━━\u001b[0m\u001b[37m\u001b[0m \u001b[1m1s\u001b[0m 3ms/step - accuracy: 0.8976 - loss: 0.3853\n",
      "Test Accuracy: 90.23%\n"
     ]
    }
   ],
   "source": [
    "# 📈 Step 10: Evaluate the Model\n",
    "loss, acc = model.evaluate(X_test, y_test)\n",
    "print(f\"Test Accuracy: {acc*100:.2f}%\")\n"
   ]
  },
  {
   "cell_type": "code",
   "execution_count": 25,
   "id": "2c895945-ef26-4eb9-8674-7e4aa6cd01ea",
   "metadata": {},
   "outputs": [
    {
     "name": "stdout",
     "output_type": "stream",
     "text": [
      "\u001b[1m1/1\u001b[0m \u001b[32m━━━━━━━━━━━━━━━━━━━━\u001b[0m\u001b[37m\u001b[0m \u001b[1m0s\u001b[0m 84ms/step\n",
      "Predicted Label: 6\n"
     ]
    },
    {
     "data": {
      "image/png": "[encoded data removed]",
      "text/plain": [
       "<Figure size 640x480 with 1 Axes>"
      ]
     },
     "metadata": {},
     "output_type": "display_data"
    }
   ],
   "source": [
    "# 🖼️ Step 11: Predict a Sample Image\n",
    "plt.imshow(X_test[0].reshape(28,28), cmap='gray')\n",
    "pred = model.predict(np.expand_dims(X_test[0], axis=0))\n",
    "predicted_class = np.argmax(pred)\n",
    "print(f\"Predicted Label: {predicted_class}\")\n"
   ]
  },
  {
   "cell_type": "code",
   "execution_count": 27,
   "id": "046c55eb-d1b7-4118-839c-b0a1486e2e85",
   "metadata": {},
   "outputs": [
    {
     "name": "stderr",
     "output_type": "stream",
     "text": [
      "WARNING:absl:You are saving your model as an HDF5 file via `model.save()` or `keras.saving.save_model(model)`. This file format is considered legacy. We recommend using instead the native Keras format, e.g. `model.save('my_model.keras')` or `keras.saving.save_model(model, 'my_model.keras')`. \n"
     ]
    }
   ],
   "source": [
    "model.save(\"asl_model.h5\")\n"
   ]
  },
  {
   "cell_type": "code",
   "execution_count": 29,
   "id": "d6e71672-a4de-43a5-a745-cdfafa4751b4",
   "metadata": {},
   "outputs": [
    {
     "name": "stdout",
     "output_type": "stream",
     "text": [
      "\u001b[1m1/1\u001b[0m \u001b[32m━━━━━━━━━━━━━━━━━━━━\u001b[0m\u001b[37m\u001b[0m \u001b[1m0s\u001b[0m 134ms/step\n",
      "Predicted Letter: G\n"
     ]
    }
   ],
   "source": [
    "import string\n",
    "\n",
    "classes = list(string.ascii_uppercase)\n",
    "classes.remove('J')\n",
    "\n",
    "sample = X_test[0].reshape(1,28,28,1)\n",
    "pred = model.predict(sample)\n",
    "predicted_index = np.argmax(pred)\n",
    "print(\"Predicted Letter:\", classes[predicted_index])\n"
   ]
  },
  {
   "cell_type": "code",
   "execution_count": null,
   "id": "e4140fe2-5dbc-4888-933e-1f3c34866c44",
   "metadata": {},
   "outputs": [],
   "source": []
  }
 ],
 "metadata": {
  "kernelspec": {
   "display_name": "Python 3 (ipykernel)",
   "language": "python",
   "name": "python3"
  },
  "language_info": {
   "codemirror_mode": {
    "name": "ipython",
    "version": 3
   },
   "file_extension": ".py",
   "mimetype": "text/x-python",
   "name": "python",
   "nbconvert_exporter": "python",
   "pygments_lexer": "ipython3",
   "version": "3.10.13"
  }
 },
 "nbformat": 4,
 "nbformat_minor": 5
}
